{
  "cells": [
    {
      "cell_type": "markdown",
      "metadata": {
        "id": "vA_Nm4gM4oX9"
      },
      "source": [
        "# Homework 2"
      ]
    },
    {
      "cell_type": "markdown",
      "metadata": {
        "id": "e7vPaIoU4pqD"
      },
      "source": [
        "In this homework, you will practice the neural network algorithm by creating a model from scratch only with NumPy. You will learn how forward/backpropagation and weight normalization/activation of the simple single-layer neural network work. You will use the famous MNIST dataset, and you will need to compare the result under different normalization/activation settings of the same architecture using Pandas pipelines.\n",
        "\n",
        "**This assignment is made to practice the features of NumPy. Therefore, the use of a for loop is strictly prohibited. All problems can be solved without explicit loops.**\n"
      ]
    },
    {
      "cell_type": "markdown",
      "metadata": {
        "id": "qtWBHOcoqnKH"
      },
      "source": [
        "## 1. Data preprocessing"
      ]
    },
    {
      "cell_type": "code",
      "execution_count": 42,
      "metadata": {
        "id": "VA351vjdly0R"
      },
      "outputs": [],
      "source": [
        "import numpy as np\n",
        "import matplotlib.pyplot as plt\n",
        "from sklearn.datasets import fetch_openml\n",
        "from sklearn.model_selection import train_test_split, RandomizedSearchCV\n",
        "from sklearn.base import BaseEstimator, TransformerMixin\n",
        "from sklearn.pipeline import Pipeline\n",
        "RANDOM_STATE = 12345"
      ]
    },
    {
      "cell_type": "markdown",
      "metadata": {
        "id": "nCm_Zo2W8Q22"
      },
      "source": [
        "The MNIST dataset was constructed from two datasets of the US National Institute\n",
        "of Standards and Technology (NIST). The training dataset consists of handwritten\n",
        "digits from 250 different people, 50 percent high school students and 50 percent\n",
        "employees from the Census Bureau. Note that the test dataset contains handwritten digits from different people following the same split."
      ]
    },
    {
      "cell_type": "markdown",
      "metadata": {
        "id": "aPqJ7jTk7aaG"
      },
      "source": [
        "![alt text](https://dezyre.gumlet.net/images/Exploring+MNIST+Dataset+using+PyTorch+to+Train+an+MLP/MNIST+Dataset.png?w=900&dpr=1.0)"
      ]
    },
    {
      "cell_type": "markdown",
      "metadata": {
        "id": "V29SZpPn8S69"
      },
      "source": [
        "This MNIST dataset can be directly downloaded via various routes including tensorflow dataset repository, keras dataset, and scikit-learn. This time, you can use `sklearn.datasets` module."
      ]
    },
    {
      "cell_type": "code",
      "execution_count": 43,
      "metadata": {
        "id": "CmAMpQXwdq4t"
      },
      "outputs": [
        {
          "name": "stderr",
          "output_type": "stream",
          "text": [
            "/home/lucasvil/.local/lib/python3.10/site-packages/sklearn/datasets/_openml.py:932: FutureWarning: The default value of `parser` will change from `'liac-arff'` to `'auto'` in 1.4. You can set `parser='auto'` to silence this warning. Therefore, an `ImportError` will be raised from 1.4 if the dataset is dense and pandas is not installed. Note that the pandas parser may return different data types. See the Notes Section in fetch_openml's API doc for details.\n",
            "  warn(\n"
          ]
        }
      ],
      "source": [
        "X, y = fetch_openml(\"mnist_784\", version=1, return_X_y=True, as_frame=False)"
      ]
    },
    {
      "cell_type": "markdown",
      "metadata": {
        "id": "UGUngFc88XsU"
      },
      "source": [
        "It has 70,000 different handwriting instances. It usually has 60,000 instances in the training set and the remaining ones in the test set, but scikit-learn loads it as a whole. You may need to divide it into two."
      ]
    },
    {
      "cell_type": "code",
      "execution_count": 44,
      "metadata": {
        "id": "gVuTqRrtlb44"
      },
      "outputs": [
        {
          "data": {
            "text/plain": [
              "((70000, 784), (70000,))"
            ]
          },
          "execution_count": 44,
          "metadata": {},
          "output_type": "execute_result"
        }
      ],
      "source": [
        "X.shape, y.shape"
      ]
    },
    {
      "cell_type": "markdown",
      "metadata": {
        "id": "kILkvez98bVl"
      },
      "source": [
        "You can also check the class distribution. Is it balanced or not?"
      ]
    },
    {
      "cell_type": "code",
      "execution_count": 45,
      "metadata": {
        "id": "YNAjbM-Z8ixF"
      },
      "outputs": [
        {
          "data": {
            "text/plain": [
              "<BarContainer object of 10 artists>"
            ]
          },
          "execution_count": 45,
          "metadata": {},
          "output_type": "execute_result"
        },
        {
          "data": {
            "image/png": "[encoded data removed]",
            "text/plain": [
              "<Figure size 432x288 with 1 Axes>"
            ]
          },
          "metadata": {
            "needs_background": "light"
          },
          "output_type": "display_data"
        }
      ],
      "source": [
        "plt.bar(np.unique(y, return_counts = True)[0], np.unique(y, return_counts = True)[1])"
      ]
    },
    {
      "cell_type": "markdown",
      "metadata": {
        "id": "KEc2na5f9tRg"
      },
      "source": [
        "You may also need to apply normalization for better performance. Since it is clear that its maximum value is 255, you can simply normalize it by dividing the whole value by 255 (then the dataset will range from 0 to 1). You can use NumPy's broadcasting to divide the matrix by one scalar value. It is also possible to further standardize it to have a centeralized mean, but this time it is optional. \n",
        "- Apply normalization to X to have the range [0, 1]"
      ]
    },
    {
      "cell_type": "code",
      "execution_count": 46,
      "metadata": {
        "id": "GzXvdYtlmNqi"
      },
      "outputs": [],
      "source": [
        "X_normalized = X / 255"
      ]
    },
    {
      "cell_type": "markdown",
      "metadata": {
        "id": "zmmuNtw2d8dX"
      },
      "source": [
        "If you take a look at `y`, it has string labels! It might be disturbing when you need to handle them later, so let's also convert them to an integer form.\n",
        "- Change the type of the labels to integer"
      ]
    },
    {
      "cell_type": "code",
      "execution_count": 47,
      "metadata": {
        "id": "vfx0EL0wmoyU"
      },
      "outputs": [],
      "source": [
        "y_integer = y.astype(np.int8)"
      ]
    },
    {
      "cell_type": "markdown",
      "metadata": {
        "id": "TqeW4C00l5se"
      },
      "source": [
        "Next, you need to split the dataset into two parts using scikit-learn's `train_test_split` method.\n",
        "- Use scikit-learn's `train_test_split` to create training and test sets.\n",
        "- Set **test_size** to 20%.\n",
        "- Enable stratification and shuffling.\n",
        "- use `X_normalized` and `y_integer`.\n",
        "- set `random_state` to the pre-defined variable `RANDOM_STATE`."
      ]
    },
    {
      "cell_type": "code",
      "execution_count": 48,
      "metadata": {
        "id": "SiERfT0gddu1"
      },
      "outputs": [],
      "source": [
        "X_train, X_test, y_train, y_test = train_test_split(X_normalized, y_integer, test_size=0.2, random_state=RANDOM_STATE, stratify=y_integer, shuffle=True)"
      ]
    },
    {
      "cell_type": "markdown",
      "metadata": {
        "id": "vcUJo3uj6sCa"
      },
      "source": [
        "Please print the mean and the standard deviation of `X_train` here (for validation purpose)."
      ]
    },
    {
      "cell_type": "code",
      "execution_count": 49,
      "metadata": {
        "id": "1mujB3I56rjw"
      },
      "outputs": [
        {
          "data": {
            "text/plain": [
              "(0.13086888228505666, 0.30836916270386544)"
            ]
          },
          "execution_count": 49,
          "metadata": {},
          "output_type": "execute_result"
        }
      ],
      "source": [
        "X_train.mean(), X_train.std()"
      ]
    },
    {
      "cell_type": "markdown",
      "metadata": {
        "id": "EMldZza-faxL"
      },
      "source": [
        "Here you can check some of the instances that you get."
      ]
    },
    {
      "cell_type": "code",
      "execution_count": 50,
      "metadata": {
        "colab": {
          "base_uri": "https://localhost:8080/",
          "height": 224
        },
        "id": "TzRs98dodeAF",
        "outputId": "3a6fd962-3567-4616-e2c3-6e6116da3583"
      },
      "outputs": [
        {
          "data": {
            "image/png": "[encoded data removed]",
            "text/plain": [
              "<Figure size 432x288 with 10 Axes>"
            ]
          },
          "metadata": {},
          "output_type": "display_data"
        }
      ],
      "source": [
        "fig, ax = plt.subplots(nrows=2, ncols=5, sharex=True, sharey=True)\n",
        "ax = ax.flatten()\n",
        "for i in range(10):\n",
        "  img = X_train[y_train == i][0].reshape(28, 28)\n",
        "  ax[i].imshow(img, cmap='Greys')\n",
        "ax[0].set_xticks([])\n",
        "ax[0].set_yticks([])\n",
        "plt.tight_layout()\n",
        "plt.show()"
      ]
    },
    {
      "cell_type": "markdown",
      "metadata": {
        "id": "baT1IBRFqrBJ"
      },
      "source": [
        "## 2. Helper functions"
      ]
    },
    {
      "cell_type": "markdown",
      "metadata": {
        "id": "tVROBu9_py1h"
      },
      "source": [
        "First, you need to fix the labels, which are now in a sparse form, to have a one-hot encoded form for better computation of error terms using NumPy's vectorization. Let's create a function that receives a label vector and transform it into a one-hot encoded label matrix.\n",
        "\n",
        "- Complete the `one_hot` function."
      ]
    },
    {
      "cell_type": "code",
      "execution_count": 51,
      "metadata": {
        "id": "msvnKGsR0yUS"
      },
      "outputs": [],
      "source": [
        "def one_hot(y):\n",
        "  \"\"\"\n",
        "  Input:\n",
        "    - y : set of labels\n",
        "\n",
        "  Output:\n",
        "    - onehot: a one-hot-encoded array\n",
        "\n",
        "  This function creates an one-hot encoded representation of the labels.\n",
        "  This means that you will have a set of binary columns indicading each possible class.\n",
        "\n",
        "  You have to develop this one hot encoding strategy without using Python for loop\n",
        "\n",
        "  Expected outcome:\n",
        "    one_hot(np.array([1,0,2,3]))\n",
        "\n",
        "    array([[0., 1., 0., 0.],\n",
        "          [1., 0., 0., 0.],\n",
        "          [0., 0., 1., 0.],\n",
        "          [0., 0., 0., 1.]])\n",
        "  \"\"\"\n",
        "  features = np.unique(y)\n",
        "  y_onehot_range = list(map(lambda e: np.where(features == e)[0][0], y))\n",
        "  onehot = np.zeros((y.size, features.size))\n",
        "\n",
        "  onehot[np.arange(y.size), y_onehot_range] = np.ones(y.size)\n",
        "  return onehot\n"
      ]
    },
    {
      "cell_type": "markdown",
      "metadata": {
        "id": "5dAPaf1708Bs"
      },
      "source": [
        "Test your code here (see the expected outcome above)."
      ]
    },
    {
      "cell_type": "code",
      "execution_count": 52,
      "metadata": {
        "id": "sGFbZ_tN00WK"
      },
      "outputs": [
        {
          "data": {
            "text/plain": [
              "array([[0., 1., 0., 0.],\n",
              "       [1., 0., 0., 0.],\n",
              "       [0., 0., 1., 0.],\n",
              "       [0., 0., 0., 1.]])"
            ]
          },
          "execution_count": 52,
          "metadata": {},
          "output_type": "execute_result"
        }
      ],
      "source": [
        "one_hot(np.array([1,0,2,3]))"
      ]
    },
    {
      "cell_type": "markdown",
      "metadata": {
        "id": "7niKihIdpYa5"
      },
      "source": [
        "Next, you may also need a sigmoid function for the output values as you are dealing with a classification problem. Sigmoid can be represented as follows:\n",
        "\n",
        "$$ h_ \\theta (x) =  \\frac{\\mathrm{1} }{\\mathrm{1} + e^{-x} }  $$ \n",
        "\n",
        "\n",
        "- Complete the sigmoid function below that supports both vectors and scalars (this can be automatically handled if you use NumPy)."
      ]
    },
    {
      "cell_type": "code",
      "execution_count": 53,
      "metadata": {
        "id": "hFSCiidT1Drz"
      },
      "outputs": [],
      "source": [
        "def sigmoid(x):\n",
        "  \"\"\"\n",
        "  Input:\n",
        "    - z: input vector or scalar value\n",
        "\n",
        "  Output:\n",
        "    - sigmoid: output sigmoid-transformed vector or scalar value\n",
        "\n",
        "  Calculate the sigmoid value of the input.\n",
        "  \n",
        "  Expected outcome:\n",
        "    sigmoid(np.array([np.inf, -np.inf, 0]))\n",
        "\n",
        "    array([1. , 0. , 0.5])\n",
        "  \"\"\"\n",
        "  return 1 / (1 + np.exp(-x))"
      ]
    },
    {
      "cell_type": "markdown",
      "metadata": {
        "id": "Xlugwi8r0O-H"
      },
      "source": [
        "Test your code here (see the expected outcome above)."
      ]
    },
    {
      "cell_type": "code",
      "execution_count": 54,
      "metadata": {
        "id": "3fJNnW22qMQ0"
      },
      "outputs": [
        {
          "data": {
            "text/plain": [
              "array([1. , 0. , 0.5])"
            ]
          },
          "execution_count": 54,
          "metadata": {},
          "output_type": "execute_result"
        }
      ],
      "source": [
        "sigmoid(np.array([np.inf, -np.inf, 0]))"
      ]
    },
    {
      "cell_type": "markdown",
      "metadata": {},
      "source": []
    },
    {
      "cell_type": "markdown",
      "metadata": {
        "id": "dnfdCK6Fqtls"
      },
      "source": [
        "## 3. Our FCN classifier with the class structure"
      ]
    },
    {
      "cell_type": "markdown",
      "metadata": {
        "id": "Sn2YtPQk0pXK"
      },
      "source": [
        "Now it is time to create your neural network model from scratch! You eventually need to integrate everything into scikit-learn's pipeline, so it's important to have an appropriate class structure. To do this, you may need to extend `BaseEstimator` and `TransformerMixin` to make scikit-learn recognize that your class is a valid classifier.\n",
        "\n",
        "You are going to develop a neural network with one layer for simplicity. That means you will have two different sets of weights.\n",
        "\n",
        "- First layer: [input size (number of features), hidden layer size]\n",
        "- Second layer (or output layer): [hidden layer size, output size (number of classes)]\n",
        "\n",
        "In the class structure `FullyConnectedNetwork` below, you will develop five different methods as follows:\n",
        " - `compile`: Given parameters, this function will initialize weight and bias values needed for our neural network model.\n",
        "   - Here, you will initialize bias and weights based on a chosen initialization technique.\n",
        "        - You need to implement three different options: normal, Xavier, and he\n",
        "        - Each technique initializes the weight using the normal distribution but different standard deviation. The mean value remains the same.\n",
        "          - Normal: \n",
        "$ \\mu = 0, \\sigma = 0.1 $\n",
        "          - Xavier: \n",
        "$ \\mu = 0, \\sigma = \\sqrt{\\frac{2}{n_{in} + n_{out}}}$\n",
        "          - He:\n",
        "$ \\mu = 0, \\sigma = \\sqrt{\\frac{2}{n_{in}}}$\n",
        " - `forward`: Perform a forward propagation with the weights saved in the model.\n",
        " - `back_propagation`: Perform a back propagation (training the model).\n",
        "    - Most of the derivative terms are already provided. You will only need to finish some part of it.\n",
        "      - Weight and bias update\n",
        "      - Derivative of the sigmoid function\n",
        "        - $σ(x)=σ(x)(1−σ(x))$.\n",
        "\n",
        " - `fit`: Run the whole fitting process (forward and backpropagation for each batch).\n",
        " - `cost`: Calculate the cost (cross-entropy) together with the elastic net (l1/l2)\n",
        "   - cross-entropy loss can be calculated as follows:\n",
        " - `predict`: With a trained model, perform a prediction of unseen data by running the forward propagation with the trained weight and bias.\n",
        " - `evaluate`: With trained weight and bias, perform a prediction of test data and calculate the performance metric (in our case, those are training and validation accuracy scores).\n",
        "\n",
        "**This exercise is based on *Chapter 12* of the coursebook Python Machine Learning with some modification and additional tasks - so please note that the structure and requirements are not the same.**\n",
        "\n",
        "You are free to check out the coursebook for reference. However, to solve the tasks, you should understand the logic clearly."
      ]
    },
    {
      "cell_type": "code",
      "execution_count": 85,
      "metadata": {
        "id": "UxEdUv9hmiTd"
      },
      "outputs": [],
      "source": [
        "class FullyConnectedNetwork(BaseEstimator, TransformerMixin):\n",
        "    def __init__(self, n_hidden=30, l2=0., l1=0., epochs=100, eta=0.001, validation_rate = 0.3,\n",
        "                 shuffle=True, batch_size=1, init_technique = \"normal\", seed=None, debug=True):\n",
        "\n",
        "        \"\"\"\n",
        "        The class structure receive the following parameters to construct and test the model:\n",
        "\n",
        "        Input:\n",
        "          - n_hidden: Number of hidden nodes.\n",
        "          - l2: Lambda value for L2-regularization.\n",
        "          - l1: Lambda value for L1-regularization.\n",
        "          - epochs: Number of passes over the training set.\n",
        "          - eta: Learning rate.\n",
        "          - validation_rate: size of the validation set.\n",
        "          - shuffle: Enabling shuffling option of the dataset every epoch.\n",
        "          - batch_size: Number of training examples per batch.\n",
        "          - init_technique: Indicator for an initialization technique.\n",
        "          - seed: Random seed for initializing weights and shuffling.\n",
        "        \"\"\"\n",
        "        self.seed = seed\n",
        "\n",
        "        # DEFINE YOUR RANDOM NUMBER GENERATOR USING THE INPUT SEED\n",
        "        # WARNING! It is strictly required to use \"np.random.default_rng\" to generate random numbers.\n",
        "        self.random = np.random.default_rng(seed)\n",
        "        \n",
        "        self.n_hidden = n_hidden\n",
        "        self.l2 = l2\n",
        "        self.l1 = l1\n",
        "        self.epochs = epochs\n",
        "        self.eta = eta\n",
        "        self.validation_rate = validation_rate\n",
        "        self.shuffle = shuffle\n",
        "        self.batch_size = batch_size\n",
        "        self.debug = debug\n",
        "        self.init_technique = init_technique\n",
        "\n",
        "    def compile(self, n_features, n_outputs):\n",
        "        \"\"\"\n",
        "        Initializing the weights of the model\n",
        "\n",
        "        - Here you will initialize bias and weights based on chosen initialization technique.\n",
        "        - The classifier has three different options: normal, xavier, and he\n",
        "        - Each technique initializes the weight using the normal distribution but different standard deviation.\n",
        "        - Use self.init_technique to check the chosen technique and use self.random to perform the sampling.\n",
        "\n",
        "        Input:\n",
        "          - n_features: input size of the network\n",
        "          - n_outputs: output size of the network\n",
        "          - Unit size of the layer is given as self.n_hidden\n",
        "\n",
        "        Steps:\n",
        "          1. Check if you have created self.random using NumPy's random number generator.\n",
        "             You will use this generator throughout this function.\n",
        "          2. Create lists self.W and self.B which will keep the weight values for each layer.\n",
        "          3. Set mean and standard deviation for different initialization technique.\n",
        "          4. Create weights and bias for the linkage between inputs and the first layer.\n",
        "            - Weight should have the size [n_features, self.n_hidden].\n",
        "            - Bias should have the size [self.n_hidden].\n",
        "            - Weight initialization should be applied to the weights only.\n",
        "            - Bias should be initizalied by zeros.\n",
        "          5. Create weights and bias for the linkage between the first layer and the output layer.\n",
        "            - Weight should have the size [self.n_hidden, n_outputs].\n",
        "            - Bias should have the size [n_outputs].\n",
        "            - Weight initialization should be applied to the weights only.\n",
        "            - Bias should be initizalied by zeros.\n",
        "          5. Save the weights to self.W and biases to self.B. Each list should have two elements for each layer.\n",
        "\n",
        "          WARNING! It is strictly required to use \"np.random.default_rng\" to generate random numbers.\n",
        "        \"\"\"\n",
        "\n",
        "        self.B = np.array([])\n",
        "        self.W = np.array([])\n",
        "\n",
        "        # 1. Creating weights and bias for [input -> hidden]\n",
        "        # Use specific initialization techniques for weights\n",
        "        # Weights should have the size (n_features, self.n_hidden)\n",
        "        # Use np.zeros for bias with the size 'self.n_hidden'\n",
        "\n",
        "        mean = 0\n",
        "        if self.init_technique == 'normal' :\n",
        "          std = 0.1\n",
        "        if self.init_technique == 'xavier' :\n",
        "          std = np.sqrt(2/(n_features - n_outputs))\n",
        "        if self.init_technique == 'he' :\n",
        "          std = np.sqrt(2/n_features)\n",
        "        b_h = np.zeros(self.n_hidden)\n",
        "        w_h = self.random.normal(loc=0, scale=std, size=(n_features, self.n_hidden))\n",
        "\n",
        "        # 2. Append bias to self.B and weights to self.W\n",
        "        self.B = np.array(b_h)\n",
        "        self.W = np.array(w_h)\n",
        "\n",
        "        # 3. Creating weights and bias for [hidden -> output]\n",
        "        # Use specific initialization techniques for weights\n",
        "        # Weights should have the size (self.n_hidden, n_outputs)\n",
        "        # Use np.zeros for bias with the size 'n_outputs'\n",
        "\n",
        "        b_out = np.zeros(n_outputs)\n",
        "        w_out = self.random.normal(loc=0, scale=std, size=(self.n_hidden, n_outputs))\n",
        "\n",
        "        # 4. Append bias to self.B and weights to self.W\n",
        "        self.B = np.array([self.B, b_out], dtype=object,)\n",
        "        self.W = np.array([self.W, w_out], dtype=object,)\n",
        "\n",
        "\n",
        "\n",
        "    def forward(self, X):\n",
        "        \"\"\"\n",
        "        Given the dataset X, compute forward propagation step with the weights and bias saved in the list.\n",
        "        This process eventually outputs ten numbers in our case as the dataset has ten outputs.\n",
        "        (Please refer to the lecture slides for detailed computation process)\n",
        "        Forward propagation is performed by multiple chained dot products of inputs and weights.\n",
        "        \n",
        "        Input:\n",
        "          - X: features\n",
        "        \n",
        "        Output:\n",
        "          - Z: Result of dot product of the weights and the previous output for each phase\n",
        "          - A: A list that contains sigmoided values of A\n",
        "        Steps:\n",
        "          1. Create two lists Z and A.\n",
        "          2. Take a dot product of X and the first weight self.W[0] - save the result into Z\n",
        "          3. Apply sigmoid function to the first Z - save the result into A\n",
        "          4. Take a dot product of A and the second weight self.W[1] - save the result into Z\n",
        "          5. Apply sigmoid function to the second Z - save the result into A\n",
        "          6. Return Z and A\n",
        "\n",
        "        WARNING! Be careful when you multiply two matrices - think about which rows you are multiplying.\n",
        "                 Wrong order in .dot() function can lead completely wrong result.\n",
        "        \"\"\"\n",
        "\n",
        "        Z = []\n",
        "        A = []\n",
        "\n",
        "        # Step 1: net input of hidden layer\n",
        "        # - You are calculating the first XW+b.\n",
        "        # - Take a dot product of the input features and the initial weights.\n",
        "        # - Add the outcome to list Z.\n",
        "        Z.append(np.dot(X, self.W[0]) + self.B[0])\n",
        "\n",
        "        # Step 2: activation of hidden layer\n",
        "        # - Apply the sigmoid function to the dot producted outcome.\n",
        "        # - Add the outcome to list A.\n",
        "        A.append(sigmoid(Z[0]))\n",
        "\n",
        "        # Step 3: net input of output layer\n",
        "        # - You are calculating the second XW+b.\n",
        "        # - Take a dot product of the intermediate features and the weights of the output layer.\n",
        "        # - Add the outcome to list Z.\n",
        "        Z.append(np.dot(A[0], self.W[1]) + self.B[1])\n",
        "\n",
        "        # Step 4: activation output layer\n",
        "        # - Apply the sigmoid function to the dot producted outcome.\n",
        "        # - For simplicity, here the network uses sigmoid instead of softmax.\n",
        "        # - Add the outcome to list A.\n",
        "        A.append(sigmoid(Z[1]))\n",
        "\n",
        "        return Z, A\n",
        "\n",
        "    def predict(self, X):\n",
        "        \"\"\"\n",
        "        \n",
        "        Predict class labels by performing forward propagation.\n",
        "\n",
        "        Input: \n",
        "          - X: Feature matrix.\n",
        "        Output:\n",
        "          - y_pred: Predicted class labels for all data instances.\n",
        "\n",
        "        Steps:\n",
        "          1. Run forward proparation on X and get Z, a.\n",
        "          2. Calculate y_pred by using the final output (A[-1]) and with np.argmax\n",
        "            - You have to choose the index of the one with the highest value, which means the highest probability.\n",
        "          3. Return the prediction. You SHOULD perform the operation using NumPy's vectorization feature.\n",
        "             This means that if you put many instances at once as an input, this function should calculate \n",
        "             the result also at once.\n",
        "\n",
        "        \"\"\"\n",
        "        _, A = self.forward(X)\n",
        "        y_pred = np.argmax(A[-1], axis=1)\n",
        "\n",
        "        return y_pred\n",
        "\n",
        "    def cost(self, y_truth, y_pred):\n",
        "        \"\"\"\n",
        "        \n",
        "        This function computes the cost for the classification task.\n",
        "        The network supports Elastic net (combination of l1 and l2 with corresponding weights).\n",
        "\n",
        "        Input:\n",
        "          - y_truth: \"One-hot encoded\" class labels.\n",
        "          - y_pred: Activation of the output layer (= output of the forward propagation function).\n",
        "          - The weights for l1 and l2 are saved into self.l1 and self.l2.\n",
        "        \n",
        "        Output:\n",
        "          - cost: Regularized cost\n",
        "\n",
        "        Steps:\n",
        "          1. Calculate the cross entropy between the truth (y) and predicted values (y*).\n",
        "             - y * log(y*) - (1 - y) * log(1 - y*)\n",
        "          2. Add l1 and l2 terms to the cost.\n",
        "            - L1 term is the sum of absolute weight values.\n",
        "            - L2 term is the sum of squared weight values.\n",
        "            - You should multiply l1 and l2 ratio saved in self.l1 and self.l2 (this will decide the degree of regularization).\n",
        "            - You should NOT include weights that belong to the bias values.\n",
        "          3. Return the total cost (cross entropy + L1 term + L2 term).\n",
        "        \"\"\"\n",
        "        ce =  np.sum((-y_truth * np.log(y_pred)) - ((1. - y_truth) * np.log(1. - y_pred)))\n",
        "        cost = ce + (self.l1 * (np.sum(np.abs(self.W[0])) + np.sum(np.abs(self.W[1])))) + (self.l2 * (np.sum(np.square(self.W[0])) + np.sum(np.square(self.W[1]))))\n",
        "        \n",
        "        return cost\n",
        "\n",
        "\n",
        "    def back_propagation(self, X_train, batch_idx, A, y_truth):\n",
        "      \"\"\"\n",
        "      Perform back propagation based on the result of forward propagation and true labels (for each batch).\n",
        "\n",
        "      Input:\n",
        "        X_train: Training features.\n",
        "        batch_idx: The current batch indices from the fit function.\n",
        "        A: Sigmoided output values - the result of forward propagation.\n",
        "        y_truth: One-hot encoded true labels.\n",
        "\n",
        "      Output:\n",
        "        None\n",
        "        You should update the weights and biases in self.W/self.B\n",
        "\n",
        "      **** You only need to fill in some required parts marked as \"CHANGE THIS PART\" ****\n",
        "      **** To get more information about the backpropagation process: \n",
        "           https://towardsdatascience.com/deriving-backpropagation-with-cross-entropy-loss-d24811edeaf9 ****\n",
        "      \"\"\"\n",
        "\n",
        "      # OUTPUT WEIGHTS (LAYER-OUTPUT)\n",
        "\n",
        "      # δC/δA * δA/δZ\n",
        "      delta_out = A[-1] - y_truth[batch_idx]\n",
        "      # δC/δA * δA/δZ * δZ/δW\n",
        "      grad_w_out = np.dot(A[0].T, delta_out)\n",
        "      # δC/δA * δA/δZ * δZ/δB\n",
        "      grad_b_out = np.sum(delta_out, axis=0)\n",
        "\n",
        "      #############################################\n",
        "      # CHANGE THIS PART\n",
        "    \n",
        "      # Using the final gradients of the weight and bias (grad_w_out, grad_b_out), the network needs to update \n",
        "      # its current weight values.\n",
        "      # The gradient of w and b are already calculated and all you need to do is to merge it with l1/l2 terms.\n",
        "      # Change the values of self.W[1], self.B[1] (output weight and bias).\n",
        "      # - You should also apply l1 and l2 normalization to the weight (not to the bias).\n",
        "      # - You should use the learning rate (self.eta) when changing the value.\n",
        "\n",
        "      delta_w_out = grad_w_out + self.l1*self.W[1] + self.l2*self.W[1]\n",
        "      delta_b_out = grad_b_out\n",
        "      self.W[1] -= self.eta * delta_w_out\n",
        "      self.B[1] -= self.eta * delta_b_out\n",
        "\n",
        "      # END OF CHANGE\n",
        "      #############################################\n",
        "      \n",
        "      # HIDDEN WEIGHTS (INPUT-LAYER)\n",
        "\n",
        "      #############################################\n",
        "      # CHANGE THIS PART\n",
        "\n",
        "      # To continue to take derivatives backwards, you need to take a derivative of the sigmoid function.\n",
        "      # Here you are trying to take derivative of a sigmoided output A[0].\n",
        "      # Derivative of sigmoid σ(x) can be represented as σ(x)(1−σ(x)).\n",
        "      \n",
        "      sigmoid_derivative_h = A[0]*(1.-A[0])\n",
        "\n",
        "      # END OF CHANGE\n",
        "      #############################################\n",
        "\n",
        "      delta_h = (np.dot(delta_out, self.W[1].T) * sigmoid_derivative_h)\n",
        "      grad_w_h = np.dot(X_train[batch_idx].T, delta_h)\n",
        "      grad_b_h = np.sum(delta_h, axis=0)\n",
        "\n",
        "      #############################################\n",
        "      # CHANGE THIS PART\n",
        "\n",
        "      # Using the final gradients of the weight and bias (grad_w_h, grad_b_h).\n",
        "      # The gradient of w and b are already calculated and all you need to do is to merge it with l1/l2 terms.\n",
        "      # Change the values of self.W[0], self.B[0] (output weight and bias).\n",
        "      # - You should also apply l1 and l2 normalization to the weight (not to the bias).\n",
        "      # - You should use the learning rate (self.eta) when changing the value.\n",
        "\n",
        "      delta_w_h = grad_w_h + self.W[0]*self.l1 + self.W[0]*self.l2\n",
        "      delta_b_h = grad_b_h\n",
        "      \n",
        "      self.W[0] -= self.eta * delta_w_h\n",
        "      self.B[0] -= self.eta * delta_b_h\n",
        "\n",
        "      # END OF CHANGE\n",
        "      #############################################\n",
        "\n",
        "    \n",
        "    def evaluate(self, epoch, X_train, X_valid, y_train, y_valid):\n",
        "      \"\"\"\n",
        "      Evaluate performances on the training and validation sets per epoch\n",
        "      \n",
        "      Input:\n",
        "        - epoch: Current epoch number.\n",
        "        - X_train: Training features\n",
        "        - X_valid: Validation features\n",
        "        - y_train: Training labels\n",
        "        - y_valid: Validation labels\n",
        "\n",
        "      Output:\n",
        "        - None\n",
        "        Append the cost and performance metrics of current epoch to self.history\n",
        "      \"\"\"\n",
        "\n",
        "      # Step 1. Call self.forward on X_train to calculate the output with current weights and bias of the model.\n",
        "      Z, A = self.forward(X_train)\n",
        "\n",
        "      # Step 2. call predict functions with both X_train and X_valid and save the predicted values accordingly.\n",
        "      y_train_pred = self.predict(X_train)\n",
        "      y_valid_pred = self.predict(X_valid)\n",
        "\n",
        "      # Step 2. Call self.cost with y_train and y_train_pred.\n",
        "      # Save it into the variable 'cost'.\n",
        "      cost = self.cost(one_hot(y_train), A[-1])\n",
        "\n",
        "      # Step 4. Calculate accuracy scores.\n",
        "      # - between y_train_pred and y_train.\n",
        "      # - between y_valid_pred and y_valid.\n",
        "      train_acc = np.count_nonzero(np.equal(y_train_pred, y_train)) / y_train_pred.size\n",
        "      valid_acc = np.count_nonzero(np.equal(y_valid_pred, y_valid)) / y_valid_pred.size\n",
        "\n",
        "      # Step 5. Save the results into the dictionary.\n",
        "      # This part is already complete.\n",
        "      print(cost)\n",
        "      if self.debug == True:\n",
        "        print('%d/%d | Cost: %.2f '\n",
        "                        '| Train/Valid Acc.: %.2f%%/%.2f%% ' %\n",
        "                        (epoch+1, self.epochs, cost,\n",
        "                          train_acc*100, valid_acc*100))\n",
        "\n",
        "      self.history['cost'].append(cost)\n",
        "      self.history['train_acc'].append(train_acc)\n",
        "      self.history['valid_acc'].append(valid_acc)\n",
        "\n",
        "    \n",
        "    def fit(self, X, y):\n",
        "        \"\"\" \n",
        "        \n",
        "        Learn weights from training data.\n",
        "\n",
        "        Input\n",
        "          - X: features (training+validation)\n",
        "          - y: labels\n",
        "\n",
        "        Output\n",
        "          - self.history: information about cost and accuracy scores\n",
        "\n",
        "        \"\"\"\n",
        "\n",
        "        self.history = {'cost': [], 'train_acc': [], 'valid_acc': []}\n",
        "\n",
        "        # Step 1: Select different training and test sets. Use scikit-learn's train_test_split.\n",
        "        # Turn on the stratification option and use self.validation_rate\n",
        "        X_train, X_valid, y_train, y_valid = train_test_split(X, y, test_size=self.validation_rate, stratify=y)\n",
        "\n",
        "        # Step 2: Compile (initialize) the parameters by running self.compile with correct number of features and outputs\n",
        "        # WRITE YOUR CODE HERE\n",
        "        self.compile(X.shape[1], np.unique(y).size)\n",
        "      \n",
        "\n",
        "        # Step 3: Prepare one-hot encoded training labels by using one_hot function on y_train\n",
        "        y_train_enc = one_hot(y_train)\n",
        "\n",
        "        # Step 4: iterate over training epochs\n",
        "        for i in range(self.epochs):\n",
        "\n",
        "            # Step 5: set the indices\n",
        "            # - if self.shuffle is True, shuffle the indices using self.random.shuffle or permutation\n",
        "            indices = np.array(range(y_train.shape[0]))\n",
        "            if self.shuffle:\n",
        "              self.random.shuffle(indices)\n",
        "\n",
        "            # Step 6: iterate over the data\n",
        "            # - For each iteration, you need to choose the data \n",
        "            for start_idx in range(0, indices.shape[0] - self.batch_size +\n",
        "                                   1, self.batch_size):\n",
        "                batch_idx = indices[start_idx:start_idx+self.batch_size]\n",
        "\n",
        "                # Step 7: Run a forward propagation\n",
        "                Z, A = self.forward(X_train[batch_idx])\n",
        "                # Step 8: Run back propagation \n",
        "                # - Use X_train, batch_idx, A, and y_train_enc\n",
        "                # WRITE YOUR CODE HERE\n",
        "                self.back_propagation(X_train, batch_idx, A, y_train_enc)\n",
        "\n",
        "                #\n",
        "\n",
        "            # call evaluate function after inner loop (whole batch cycles) is complete\n",
        "            # WRITE YOUR CODE HERE\n",
        "            self.evaluate(i, X_train, X_valid, y_train, y_valid)\n",
        "            #\n",
        "\n",
        "        # Step 9: After all loops are complete, return self.history\n",
        "        return self.history\n",
        "\n",
        "    def transform(self, X, y=None):\n",
        "      \"\"\"\n",
        "      Do not need to complete this function.\n",
        "      Leave as it is!\n",
        "      \"\"\"\n",
        "      return self.history\n",
        "    \n",
        "    def score(self, X, y=None):\n",
        "      \"\"\"\n",
        "      Score function for pipeline\n",
        "      Leave as it is!\n",
        "      \"\"\"\n",
        "      y_pred = self.predict(X)\n",
        "      acc = np.sum(y == y_pred) / X.shape[0]\n",
        "      return acc"
      ]
    },
    {
      "cell_type": "markdown",
      "metadata": {
        "id": "4QAzKAjhhwHu"
      },
      "source": [
        "After you finish developing the methods in the class structure, you can create a new instance by calling 'FullyConnectedNetwork' class. Create your model using the following parameters:\n",
        "\n",
        "- n_hidden = 100\n",
        "- l2 = 0.01\n",
        "- epochs = 50\n",
        "- eta = 0.0005\n",
        "- batch_size = 100\n",
        "- shuffle = True\n",
        "- seed = `RANDOM_STATE`"
      ]
    },
    {
      "cell_type": "code",
      "execution_count": 86,
      "metadata": {
        "id": "pEkq3fydrmVw"
      },
      "outputs": [],
      "source": [
        "nn = FullyConnectedNetwork(n_hidden=100, l2=0.01, epochs=50, eta=0.0005, batch_size=100, shuffle=True, seed=RANDOM_STATE)"
      ]
    },
    {
      "cell_type": "markdown",
      "metadata": {
        "id": "IXBBoj_oh5Vt"
      },
      "source": [
        "Then the fit methods will run the model for 50 epochs, and depending on your computing power, it might take a few minutes to an hour.\n",
        " - Fit your network on `X_train` and `y_train` and save the output to `history`."
      ]
    },
    {
      "cell_type": "code",
      "execution_count": 87,
      "metadata": {
        "id": "uSKfzn3czNrU"
      },
      "outputs": [
        {
          "name": "stdout",
          "output_type": "stream",
          "text": [
            "70181.92816144408\n",
            "1/50 | Cost: 70181.93 | Train/Valid Acc.: 78.84%/78.66% \n",
            "50369.88921197039\n",
            "2/50 | Cost: 50369.89 | Train/Valid Acc.: 84.05%/83.94% \n",
            "41412.54574288119\n",
            "3/50 | Cost: 41412.55 | Train/Valid Acc.: 86.80%/86.17% \n",
            "36351.83881378905\n",
            "4/50 | Cost: 36351.84 | Train/Valid Acc.: 88.05%/87.76% \n",
            "33046.77524509881\n",
            "5/50 | Cost: 33046.78 | Train/Valid Acc.: 88.94%/88.74% \n",
            "30767.586175840566\n",
            "6/50 | Cost: 30767.59 | Train/Valid Acc.: 89.38%/88.96% \n",
            "29171.983425435592\n",
            "7/50 | Cost: 29171.98 | Train/Valid Acc.: 89.80%/89.32% \n",
            "27787.374535706334\n",
            "8/50 | Cost: 27787.37 | Train/Valid Acc.: 90.35%/89.77% \n",
            "26738.543531207786\n",
            "9/50 | Cost: 26738.54 | Train/Valid Acc.: 90.58%/90.12% \n",
            "25880.923262375643\n",
            "10/50 | Cost: 25880.92 | Train/Valid Acc.: 90.68%/90.29% \n",
            "25037.63135006667\n",
            "11/50 | Cost: 25037.63 | Train/Valid Acc.: 91.07%/90.64% \n",
            "24376.708379306747\n",
            "12/50 | Cost: 24376.71 | Train/Valid Acc.: 91.28%/90.80% \n",
            "23745.375998959564\n",
            "13/50 | Cost: 23745.38 | Train/Valid Acc.: 91.54%/91.07% \n",
            "23167.61715370982\n",
            "14/50 | Cost: 23167.62 | Train/Valid Acc.: 91.71%/91.31% \n",
            "22697.4407638236\n",
            "15/50 | Cost: 22697.44 | Train/Valid Acc.: 91.83%/91.49% \n",
            "22175.06044097811\n",
            "16/50 | Cost: 22175.06 | Train/Valid Acc.: 92.01%/91.62% \n",
            "21730.986324085607\n",
            "17/50 | Cost: 21730.99 | Train/Valid Acc.: 92.20%/91.76% \n",
            "21292.427664625317\n",
            "18/50 | Cost: 21292.43 | Train/Valid Acc.: 92.32%/91.99% \n",
            "20950.50604983241\n",
            "19/50 | Cost: 20950.51 | Train/Valid Acc.: 92.50%/92.06% \n",
            "20531.79568018965\n",
            "20/50 | Cost: 20531.80 | Train/Valid Acc.: 92.65%/92.29% \n",
            "20175.585295991797\n",
            "21/50 | Cost: 20175.59 | Train/Valid Acc.: 92.70%/92.39% \n",
            "19824.90736342317\n",
            "22/50 | Cost: 19824.91 | Train/Valid Acc.: 92.85%/92.53% \n",
            "19525.96204762296\n",
            "23/50 | Cost: 19525.96 | Train/Valid Acc.: 93.02%/92.69% \n",
            "19214.585654649647\n",
            "24/50 | Cost: 19214.59 | Train/Valid Acc.: 93.04%/92.83% \n",
            "18917.366906876352\n",
            "25/50 | Cost: 18917.37 | Train/Valid Acc.: 93.20%/92.95% \n",
            "18627.724833089414\n",
            "26/50 | Cost: 18627.72 | Train/Valid Acc.: 93.29%/93.05% \n",
            "18341.047241114542\n",
            "27/50 | Cost: 18341.05 | Train/Valid Acc.: 93.39%/93.17% \n",
            "18095.723167222324\n",
            "28/50 | Cost: 18095.72 | Train/Valid Acc.: 93.43%/93.33% \n",
            "17846.82677585367\n",
            "29/50 | Cost: 17846.83 | Train/Valid Acc.: 93.54%/93.30% \n",
            "17603.688499362997\n",
            "30/50 | Cost: 17603.69 | Train/Valid Acc.: 93.64%/93.40% \n",
            "17341.015803075872\n",
            "31/50 | Cost: 17341.02 | Train/Valid Acc.: 93.76%/93.46% \n",
            "17137.938807437822\n",
            "32/50 | Cost: 17137.94 | Train/Valid Acc.: 93.79%/93.59% \n",
            "16898.12579428712\n",
            "33/50 | Cost: 16898.13 | Train/Valid Acc.: 93.93%/93.69% \n",
            "16666.727271076295\n",
            "34/50 | Cost: 16666.73 | Train/Valid Acc.: 94.02%/93.77% \n",
            "16462.865554205837\n",
            "35/50 | Cost: 16462.87 | Train/Valid Acc.: 94.10%/93.83% \n",
            "16278.2229605471\n",
            "36/50 | Cost: 16278.22 | Train/Valid Acc.: 94.12%/93.82% \n",
            "16061.72693945604\n",
            "37/50 | Cost: 16061.73 | Train/Valid Acc.: 94.27%/93.93% \n",
            "15883.14351712102\n",
            "38/50 | Cost: 15883.14 | Train/Valid Acc.: 94.34%/94.03% \n",
            "15676.45775449749\n",
            "39/50 | Cost: 15676.46 | Train/Valid Acc.: 94.41%/94.07% \n",
            "15508.5535366931\n",
            "40/50 | Cost: 15508.55 | Train/Valid Acc.: 94.51%/94.15% \n",
            "15332.269629101229\n",
            "41/50 | Cost: 15332.27 | Train/Valid Acc.: 94.53%/94.15% \n",
            "15141.703198146148\n",
            "42/50 | Cost: 15141.70 | Train/Valid Acc.: 94.62%/94.24% \n",
            "14999.514349827856\n",
            "43/50 | Cost: 14999.51 | Train/Valid Acc.: 94.67%/94.27% \n",
            "14821.030311394037\n",
            "44/50 | Cost: 14821.03 | Train/Valid Acc.: 94.73%/94.32% \n",
            "14666.256798247412\n",
            "45/50 | Cost: 14666.26 | Train/Valid Acc.: 94.79%/94.36% \n",
            "14503.266741347981\n",
            "46/50 | Cost: 14503.27 | Train/Valid Acc.: 94.83%/94.47% \n",
            "14368.244441539713\n",
            "47/50 | Cost: 14368.24 | Train/Valid Acc.: 94.89%/94.54% \n",
            "14195.748775057324\n",
            "48/50 | Cost: 14195.75 | Train/Valid Acc.: 94.95%/94.55% \n",
            "14071.95021988383\n",
            "49/50 | Cost: 14071.95 | Train/Valid Acc.: 95.04%/94.52% \n",
            "13923.80164928781\n",
            "50/50 | Cost: 13923.80 | Train/Valid Acc.: 95.03%/94.59% \n"
          ]
        }
      ],
      "source": [
        "history = nn.fit(X_train, y_train)"
      ]
    },
    {
      "cell_type": "markdown",
      "metadata": {
        "id": "EGuc6mti3lIp"
      },
      "source": [
        "After the training is done, you should be able to plot the training and validation accuracy scores over time using the `history` dictionary returned by the fit function."
      ]
    },
    {
      "cell_type": "code",
      "execution_count": 88,
      "metadata": {
        "id": "n79B9p-OzPIA"
      },
      "outputs": [
        {
          "data": {
            "image/png": "[encoded data removed]",
            "text/plain": [
              "<Figure size 432x288 with 1 Axes>"
            ]
          },
          "metadata": {
            "needs_background": "light"
          },
          "output_type": "display_data"
        }
      ],
      "source": [
        "plt.plot(history['train_acc'])\n",
        "plt.plot(history['valid_acc'])\n",
        "plt.show()"
      ]
    },
    {
      "cell_type": "markdown",
      "metadata": {
        "id": "rPA_LeMzqyFc"
      },
      "source": [
        "## 4. Integrate our classifier into the scikit-learn pipeline and the randomized search"
      ]
    },
    {
      "cell_type": "markdown",
      "metadata": {
        "id": "SP7V3OjInmQM"
      },
      "source": [
        "This time, you can use the same strategy as the second lab, trying to integrate everything from the raw dataset to the performance metrics into scikit-learn pipeline. \n",
        "\n",
        "- Task 1: Create a `Normalizer` class that extends BaseEstimator and TransformerMixin.\n",
        " - Your normalizer should do the following job:\n",
        "   - Normalizer: To make the features have the range [0, 1] and also **center the points to zero by subtracting 0.5 from the values.**\n",
        "   - Use NumPy's broadcasting to calculate (X / 255) - 0.5.\n",
        "\n",
        "\n",
        "- Task 2: Create a pipeline that integrates both normalizer and your neural network classifier.\n",
        "  - Your pipeline should contain the following modules.\n",
        "    - 'normalizer': Normalizer class\n",
        "    - 'classifier': `FullyConnectedNetwork` with default parameters but with epochs=10.\n",
        "\n",
        "- Task 3: Fit your pipeline on the datasets (`X_train`, `y_train`).\n",
        "  - You should **not** use `X_normalized` this time as the normalizer is now part of your pipeline. This means you might need to split your dataset again with `train_test_split` by using `X` and `y_integer`. Turn on stratification, and set `test_size` = 20%.\n",
        "  - Fit your pipeline and report the test score on `X_test` and `y_test` to `pipeline_score`."
      ]
    },
    {
      "cell_type": "code",
      "execution_count": null,
      "metadata": {
        "id": "7KQyD1cf1Na8"
      },
      "outputs": [],
      "source": [
        "# Create: class Normalizer(BaseEstimator, TransformerMixin)\n",
        "#\n",
        "#\n",
        "class Normalizer(BaseEstimator, TransformerMixin):\n",
        "\t\n",
        "\n",
        "\n",
        "\n",
        "pipe = None # CHANGE IT"
      ]
    },
    {
      "cell_type": "code",
      "execution_count": null,
      "metadata": {
        "id": "tQRQASa5bz89"
      },
      "outputs": [],
      "source": [
        "pipeline_score = None # CHANGE IT"
      ]
    },
    {
      "cell_type": "code",
      "execution_count": null,
      "metadata": {
        "id": "Lcykfo9x6zY8"
      },
      "outputs": [],
      "source": [
        "# PRINT YOUR SCORE HERE\n",
        "print(pipeline_score)"
      ]
    },
    {
      "cell_type": "markdown",
      "metadata": {
        "id": "nMdqSR8k4hRI"
      },
      "source": [
        "- Task 4: Randomized search\n",
        "  - After constructing your pipeline, you can perform a randomized search on it.\n",
        "  - Define your parameter grid with the following information. Use `np.arange` if neccesary:\n",
        "    - l1 of classifier: 0.001 to 0.01 (included) with step size 0.001.\n",
        "    - l2 of classifier: 0.001 to 0.005 (included) with step size 0.001.\n",
        "    - size of hidden layer of classifier: 30 to 100 with step size 10\n",
        "    - learning rate of classifier: 0.0001 to 0.001 with step size 0.002\n",
        "    - initialization techniques of classifier: [normal, xavier, he]\n",
        "  - Run your randomized search with cv=3. Fit it on your previous `X_train` and `y_train`. \n",
        "    - Make 10 different attempts.\n",
        "    - Set `random_state` = `RANDOM_STATE`\n",
        "  - Report your best classifier and best score into the variables `best_classifier` and `best_score`.\n",
        "\n",
        "  - **Note that this task will take a few hours based on computing power, so you may not need to finish the run. The submission is regarded correct if the logic is correct - if you cannot finish the task before the submission.**"
      ]
    },
    {
      "cell_type": "code",
      "execution_count": null,
      "metadata": {
        "id": "rysn4lmhmpBb"
      },
      "outputs": [],
      "source": [
        "parameters = None # CHANGE IT\n",
        "\n",
        "grid = None # CHANGE IT\n",
        " \n",
        "best_classifier = None # CHANGE IT\n",
        "best_score = None # CHANGE IT"
      ]
    },
    {
      "cell_type": "code",
      "execution_count": null,
      "metadata": {
        "id": "Zisqj2Qk6318"
      },
      "outputs": [],
      "source": [
        "# PRINT YOUR SCORES HERE\n",
        "print(best_classifier, best_score)"
      ]
    },
    {
      "cell_type": "markdown",
      "metadata": {
        "id": "w9gSkzvszU1K"
      },
      "source": [
        "# END"
      ]
    }
  ],
  "metadata": {
    "colab": {
      "provenance": []
    },
    "kernelspec": {
      "display_name": "Python 3",
      "language": "python",
      "name": "python3"
    },
    "language_info": {
      "codemirror_mode": {
        "name": "ipython",
        "version": 3
      },
      "file_extension": ".py",
      "mimetype": "text/x-python",
      "name": "python",
      "nbconvert_exporter": "python",
      "pygments_lexer": "ipython3",
      "version": "3.10.6"
    },
    "vscode": {
      "interpreter": {
        "hash": "916dbcbb3f70747c44a77c7bcd40155683ae19c65e1c03b4aa3499c5328201f1"
      }
    }
  },
  "nbformat": 4,
  "nbformat_minor": 0
}
