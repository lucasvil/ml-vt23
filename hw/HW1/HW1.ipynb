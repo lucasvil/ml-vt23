{
  "cells": [
    {
      "cell_type": "markdown",
      "metadata": {
        "id": "7vNf-yPJOx75"
      },
      "source": [
        "# Homework 1"
      ]
    },
    {
      "cell_type": "markdown",
      "metadata": {
        "id": "JKdfRsPZOx7-"
      },
      "source": [
        "This homework evaluates if you are familar with NumPy to create machine learning related functions. Thus, all your functions here should be only made using NumPy, without using any other libraries like pandas, scikit-learn, or scipy. You will run a complete machine learning process from preprocessing to model performance testing by using the functions you will develop.\n",
        "\n",
        "### This assignment is made to practice the features of NumPy. Therefore, the use of for loops is strictly prohibited. All problems can be solved without explicit loops. "
      ]
    },
    {
      "cell_type": "code",
      "execution_count": 1,
      "metadata": {
        "id": "9BPzS0g9Ox7-"
      },
      "outputs": [],
      "source": [
        "import numpy as np\n",
        "import matplotlib.pyplot as plt"
      ]
    },
    {
      "cell_type": "markdown",
      "metadata": {
        "id": "svj3G7hj4ZxY"
      },
      "source": [
        "In this homework, you will continue to use the same dataset you have used in the first lab, as well as the code you have made. However, this time, you will create a model and even test it - by dividing the dataset into training and test sets. You will practice applying each function one after the other in a correct order. \n",
        "\n",
        "To practice NumPy efficiently, unlike the lab, you will only use the values of the dataset, ignoring Pandas properties such as column names.\n",
        "\n",
        "- Run the block below to load the dataset (**X** and **y**)."
      ]
    },
    {
      "cell_type": "code",
      "execution_count": 2,
      "metadata": {
        "id": "2HAUc00Wmu0E"
      },
      "outputs": [],
      "source": [
        "from sklearn.datasets import fetch_california_housing\n",
        "\n",
        "california_housing = fetch_california_housing(as_frame=False)\n",
        "\n",
        "X = california_housing.data\n",
        "y = california_housing.target"
      ]
    },
    {
      "cell_type": "markdown",
      "metadata": {
        "id": "-txQY1eUoWeg"
      },
      "source": [
        "Now, you are ready to use both features and labels. To handle it correctly, you need to be familiar with its axis concept as it no longer has indices and columns that you can check by printing the variable."
      ]
    },
    {
      "cell_type": "code",
      "execution_count": 3,
      "metadata": {
        "id": "u4KbMNxMm9Oi"
      },
      "outputs": [
        {
          "data": {
            "text/plain": [
              "array([[   8.3252    ,   41.        ,    6.98412698, ...,    2.55555556,\n",
              "          37.88      , -122.23      ],\n",
              "       [   8.3014    ,   21.        ,    6.23813708, ...,    2.10984183,\n",
              "          37.86      , -122.22      ],\n",
              "       [   7.2574    ,   52.        ,    8.28813559, ...,    2.80225989,\n",
              "          37.85      , -122.24      ],\n",
              "       ...,\n",
              "       [   1.7       ,   17.        ,    5.20554273, ...,    2.3256351 ,\n",
              "          39.43      , -121.22      ],\n",
              "       [   1.8672    ,   18.        ,    5.32951289, ...,    2.12320917,\n",
              "          39.43      , -121.32      ],\n",
              "       [   2.3886    ,   16.        ,    5.25471698, ...,    2.61698113,\n",
              "          39.37      , -121.24      ]])"
            ]
          },
          "execution_count": 3,
          "metadata": {},
          "output_type": "execute_result"
        }
      ],
      "source": [
        "X"
      ]
    },
    {
      "cell_type": "code",
      "execution_count": 4,
      "metadata": {
        "id": "9rTO_NYMNHlg"
      },
      "outputs": [
        {
          "data": {
            "text/plain": [
              "array([4.526, 3.585, 3.521, ..., 0.923, 0.847, 0.894])"
            ]
          },
          "execution_count": 4,
          "metadata": {},
          "output_type": "execute_result"
        }
      ],
      "source": [
        "y"
      ]
    },
    {
      "cell_type": "markdown",
      "metadata": {
        "id": "Fbj_IpkHOx8A"
      },
      "source": [
        "### 1. Preprocessing"
      ]
    },
    {
      "cell_type": "markdown",
      "metadata": {
        "id": "EE0ALwTyOx8A"
      },
      "source": [
        "The first task is to open the dataset and preprocess it into the form that the model can understand. It involves imputation, train_test_split, standardization, and normalization. Some functions are already covered by the first lab, so if you finished the lab before, you can freely bring your code here to finish your homework.\n",
        "\n"
      ]
    },
    {
      "cell_type": "markdown",
      "metadata": {
        "id": "t2uFZSUuoh9t"
      },
      "source": [
        "First, you need to develop both standardization and normalization functions. You can re-use your lab functions here if you have finished your lab tasks. Please carefully refer to the definitions of those two functions as follows:\n",
        "\n",
        "\n",
        "- Standardization: Make features have the same standard deviaton and mean.\n",
        "\n",
        "- Normalization: Make the range of value normalized into [0, 1]. This means that each column's minimum value should be zero and maximum value should be one."
      ]
    },
    {
      "cell_type": "code",
      "execution_count": 5,
      "metadata": {
        "id": "bQRVVievOx8A"
      },
      "outputs": [],
      "source": [
        "def standardize(data):\n",
        "  \"\"\"\n",
        "  Input: NumPy ndarray\n",
        "  Output: NumPy ndarray with column mean == 0 and std == 1\n",
        "  \"\"\"\n",
        "  mean = np.mean(data, axis=0)\n",
        "  std = np.std(data, axis=0)\n",
        "\n",
        "  return (data - mean) / std\n",
        "\n",
        "def normalize(data):\n",
        "  \"\"\"\"\n",
        "  Input: NumPy ndarray\n",
        "  Output: NumPy ndarray with column min == 0 and max == 1\n",
        "  \"\"\"\n",
        "  min = np.min(data, axis=0)\n",
        "  max = np.max(data, axis=0)\n",
        "  return (data - min)/(max - min)"
      ]
    },
    {
      "cell_type": "markdown",
      "metadata": {
        "id": "Cb4WgGQ0o_9G"
      },
      "source": [
        "Let's apply both functions separately and create X_standardized and X_normalized."
      ]
    },
    {
      "cell_type": "code",
      "execution_count": 6,
      "metadata": {
        "id": "2qf7fOZG54MA"
      },
      "outputs": [],
      "source": [
        "X_standardized = standardize(X)\n",
        "X_normalized = normalize(X)"
      ]
    },
    {
      "cell_type": "markdown",
      "metadata": {
        "id": "So46vKNl53KL"
      },
      "source": [
        "You may also need to check if those functions are correctly made. Create a function to check the dataset's min, max, mean, std of each feature. You can re-use your lab function (**describe**) but this time you are not allowed to use Pandas DataFrame. There is no expected format for this function if you are successfully able to plot four statistics (min, max, mean, std). "
      ]
    },
    {
      "cell_type": "code",
      "execution_count": 7,
      "metadata": {
        "id": "l9BqVsG36Tsl"
      },
      "outputs": [],
      "source": [
        "def describe(data):\n",
        "  \"\"\"\n",
        "  Describe four statistics of the dataset.\n",
        "  \n",
        "  Input: NumPy ndarray\n",
        "  Output: vertical min, max, mean, standard deviation\n",
        "  \"\"\"\n",
        "  # data type \n",
        "\n",
        "  return np.array([np.min(data, axis=0),np.max(data, axis=0),np.mean(data, axis=0),np.std(data, axis=0)])"
      ]
    },
    {
      "cell_type": "markdown",
      "metadata": {
        "id": "FZEPPjpJ6W3B"
      },
      "source": [
        "Using this function, let's check if your **standardize** and **normalize** functions are correctly working. \n",
        "- **Your output should be the same as the one below.**"
      ]
    },
    {
      "cell_type": "code",
      "execution_count": 8,
      "metadata": {
        "colab": {
          "base_uri": "https://localhost:8080/"
        },
        "id": "1NY6wtki6c84",
        "outputId": "945364b8-7158-4052-a701-a279cfef5ea1"
      },
      "outputs": [
        {
          "data": {
            "text/plain": [
              "array([[-1.77429947e+00, -2.19618048e+00, -1.85231860e+00,\n",
              "        -1.61076772e+00, -1.25612255e+00, -2.28999974e-01,\n",
              "        -1.44756800e+00, -2.38599234e+00],\n",
              "       [ 5.85828581e+00,  1.85618152e+00,  5.51632363e+01,\n",
              "         6.95717133e+01,  3.02503302e+01,  1.19419103e+02,\n",
              "         2.95806762e+00,  2.62528006e+00],\n",
              "       [ 6.60969987e-17,  5.50808322e-18,  6.60969987e-17,\n",
              "        -1.06030602e-16, -1.10161664e-17,  3.44255201e-18,\n",
              "        -1.07958431e-15, -8.52651283e-15],\n",
              "       [ 1.00000000e+00,  1.00000000e+00,  1.00000000e+00,\n",
              "         1.00000000e+00,  1.00000000e+00,  1.00000000e+00,\n",
              "         1.00000000e+00,  1.00000000e+00]])"
            ]
          },
          "execution_count": 8,
          "metadata": {},
          "output_type": "execute_result"
        }
      ],
      "source": [
        "describe(X_standardized)"
      ]
    },
    {
      "cell_type": "code",
      "execution_count": 9,
      "metadata": {},
      "outputs": [
        {
          "data": {
            "text/plain": [
              "array([[0.        , 0.        , 0.        , 0.        , 0.        ,\n",
              "        0.        , 0.        , 0.        ],\n",
              "       [1.        , 1.        , 1.        , 1.        , 1.        ,\n",
              "        1.        , 1.        , 1.        ],\n",
              "       [0.23246376, 0.54195071, 0.03248795, 0.02262871, 0.03986874,\n",
              "        0.00191395, 0.32857188, 0.47612505],\n",
              "       [0.13101721, 0.24676966, 0.01753907, 0.0140484 , 0.03173953,\n",
              "        0.00835784, 0.226982  , 0.19955012]])"
            ]
          },
          "execution_count": 9,
          "metadata": {},
          "output_type": "execute_result"
        }
      ],
      "source": [
        "describe(X_normalized)"
      ]
    },
    {
      "cell_type": "markdown",
      "metadata": {
        "id": "mj47zZ264Az0"
      },
      "source": [
        "However, this is not a complete setting, as you need to both train the model and test it. That means you need to divide the dataset into two parts: {a training set, a test set} and only use the training set to train the model. This means that you also need to create the function for it."
      ]
    },
    {
      "cell_type": "code",
      "execution_count": 10,
      "metadata": {},
      "outputs": [
        {
          "data": {
            "text/plain": [
              "20640"
            ]
          },
          "execution_count": 10,
          "metadata": {},
          "output_type": "execute_result"
        }
      ],
      "source": [
        "y.size"
      ]
    },
    {
      "cell_type": "code",
      "execution_count": 11,
      "metadata": {
        "id": "ORFET61FbZVy"
      },
      "outputs": [],
      "source": [
        "def train_test_split(X, y, test_ratio = 0.3):\n",
        "  # simulation\n",
        "  # cross-val\n",
        "  \n",
        "  \"\"\"\n",
        "  Input:\n",
        "    - X: a set of features\n",
        "    - y: corresponding labels\n",
        "    - test_ratio: ratio of the test set\n",
        "    \n",
        "  Output:\n",
        "    - X_train: separated training instances\n",
        "    - X_test: separated test instances\n",
        "    - y_train: separated training labels\n",
        "    - y_test: separated test labels\n",
        "  \n",
        "  1. Randomly shuffle the indices of the data instances\n",
        "  2. Divide the indices into two parts with the ratio of [1-test ratio:test ratio]\n",
        "  3. Select training instances and labels with the first set of indices and test instances and labels with the second set of indices\n",
        "  4. Return the training set and the test set\n",
        "  \"\"\"\n",
        "  len = y.size\n",
        "\n",
        "  indices = np.arange(len)\n",
        "  rng = np.random.default_rng()\n",
        "  np.random.shuffle(indices)\n",
        "  \n",
        "  [train_indices, test_indices] = np.split(indices, np.rint([len*(1-test_ratio)]).astype(int))\n",
        "  \n",
        "  X_train, X_test = X[train_indices], X[test_indices]\n",
        "  y_train, y_test = y[train_indices], y[test_indices]\n",
        "\n",
        "\n",
        "  return X_train, X_test, y_train, y_test"
      ]
    },
    {
      "cell_type": "markdown",
      "metadata": {
        "id": "twOo6_yniUGO"
      },
      "source": [
        "Split your dataset into training and test sets with `test ratio = 0.3`."
      ]
    },
    {
      "cell_type": "code",
      "execution_count": 12,
      "metadata": {
        "id": "f-iSb7IoijO1"
      },
      "outputs": [],
      "source": [
        "X_train, X_test, y_train, y_test = train_test_split(X, y, 0.3)"
      ]
    },
    {
      "cell_type": "markdown",
      "metadata": {
        "id": "d9PK6RGbkK7O"
      },
      "source": [
        "After applying your train_test_split function, you can check the shape of each subset. The training set should have 14,448 rows while the test set might have 6,192 records. Uncommend the below line and check the shapes."
      ]
    },
    {
      "cell_type": "code",
      "execution_count": 13,
      "metadata": {
        "id": "bk_pMMo-iquK"
      },
      "outputs": [
        {
          "data": {
            "text/plain": [
              "((14448, 8), (6192, 8), (14448,), (6192,))"
            ]
          },
          "execution_count": 13,
          "metadata": {},
          "output_type": "execute_result"
        }
      ],
      "source": [
        "X_train.shape, X_test.shape, y_train.shape, y_test.shape"
      ]
    },
    {
      "cell_type": "markdown",
      "metadata": {
        "id": "7T8JBhsTj00O"
      },
      "source": [
        "You may remember, when you apply standardization or normalization on both training and test sets, you should not use any statistics from the test set. This means that you should use mean and standard deviation (or max and min values) of the training set and use those statistics to avoid cheating and make a valid model. \n",
        "\n",
        "- Create two functions (**apply_standardization**, **apply_normalization**) that uses training set's statistics and apply standardization or normalization to both sets."
      ]
    },
    {
      "cell_type": "code",
      "execution_count": 14,
      "metadata": {
        "id": "XLs3P181kYHA"
      },
      "outputs": [],
      "source": [
        "def apply_standardization(X_train, X_test):\n",
        "  \"\"\"\n",
        "  Input:\n",
        "    - X_train: training instances\n",
        "    - X_test: test instances\n",
        "\n",
        "  Output:\n",
        "    - X_train_standardized\n",
        "    - X_test_standardized\n",
        "\n",
        "  Use training set's mean and standard deviation to standardize both training and test sets\n",
        "  \"\"\"\n",
        "  std = np.std(X_train, axis=0)\n",
        "  mean = np.mean(X_train, axis=0)\n",
        "\n",
        "  return (X_train-mean) / std, (X_test-mean) / std"
      ]
    },
    {
      "cell_type": "code",
      "execution_count": 15,
      "metadata": {
        "id": "sOx7Kd221jRq"
      },
      "outputs": [],
      "source": [
        "def apply_normalization(X_train, X_test):\n",
        "  \"\"\"\n",
        "  Input:\n",
        "    - X_train\n",
        "    - X_test\n",
        "\n",
        "  Output:\n",
        "    - X_train_standardized\n",
        "    - X_test_standardized\n",
        "  \"\"\"\n",
        "  min = np.min(X_train, axis=0)\n",
        "  max = np.max(X_train, axis=0)\n",
        "\n",
        "  return (X_train - min) / (max - min), (X_test - min) / (max - min)"
      ]
    },
    {
      "cell_type": "markdown",
      "metadata": {
        "id": "ujWQ84ZFCa10"
      },
      "source": [
        "- Apply two functions (**apply_standardization**, **apply_normalization**) to created standardized and normalized datasets."
      ]
    },
    {
      "cell_type": "code",
      "execution_count": 16,
      "metadata": {
        "id": "Cw8tjyoCtnqI"
      },
      "outputs": [],
      "source": [
        "X_train_standardized, X_test_standardized = apply_standardization(X_train, X_test)\n",
        "X_train_normalized, X_test_normalized = apply_normalization(X_train, X_test)"
      ]
    },
    {
      "cell_type": "markdown",
      "metadata": {
        "id": "efxhH-DvCxBx"
      },
      "source": [
        "Check the statistics using describe method. Test set should **NOT** have zero mean and standard deviation 1 or zero min and one max. Good test set however might show close value to zero or one."
      ]
    },
    {
      "cell_type": "code",
      "execution_count": 17,
      "metadata": {
        "id": "ch5zQTDDDugQ"
      },
      "outputs": [
        {
          "data": {
            "text/plain": [
              "array([[-1.76545746e+00, -2.19190102e+00, -1.91405500e+00,\n",
              "        -1.49554659e+00, -1.23622996e+00, -1.83504978e+00,\n",
              "        -1.45240063e+00, -2.36412901e+00],\n",
              "       [ 5.82518948e+00,  1.84754025e+00,  5.29913475e+01,\n",
              "         6.82035020e+01,  2.97654538e+01,  6.53345137e+01,\n",
              "         2.95565405e+00,  2.63353479e+00],\n",
              "       [-8.06951290e-15,  9.52926061e-17, -1.52099786e-14,\n",
              "        -4.69043870e-16,  3.02299099e-17, -4.88930755e-15,\n",
              "        -6.37874151e-14, -2.56864804e-13],\n",
              "       [ 1.00000000e+00,  1.00000000e+00,  1.00000000e+00,\n",
              "         1.00000000e+00,  1.00000000e+00,  1.00000000e+00,\n",
              "         1.00000000e+00,  1.00000000e+00]])"
            ]
          },
          "execution_count": 17,
          "metadata": {},
          "output_type": "execute_result"
        }
      ],
      "source": [
        "describe(X_train_standardized)"
      ]
    },
    {
      "cell_type": "code",
      "execution_count": 18,
      "metadata": {
        "id": "8qyxhAClDx7e"
      },
      "outputs": [
        {
          "data": {
            "text/plain": [
              "array([[-1.76545746e+00, -2.19190102e+00, -1.89623713e+00,\n",
              "        -1.58174378e+00, -1.23796787e+00, -1.78806617e+00,\n",
              "        -1.44303176e+00, -2.38914235e+00],\n",
              "       [ 5.82518948e+00,  1.84754025e+00,  5.69004580e+01,\n",
              "         5.07634595e+01,  1.18258916e+01,  1.01015022e+03,\n",
              "         2.95565405e+00,  2.50346546e+00],\n",
              "       [-3.02378073e-03, -9.07645575e-03, -1.09731266e-02,\n",
              "        -8.64563915e-03, -6.33512296e-03,  3.39450297e-01,\n",
              "        -1.34593248e-02,  7.60025810e-03],\n",
              "       [ 9.81561652e-01,  9.89302742e-01,  1.10162662e+00,\n",
              "         9.32937582e-01,  9.45717618e-01,  1.53637880e+01,\n",
              "         1.00176582e+00,  1.00754600e+00]])"
            ]
          },
          "execution_count": 18,
          "metadata": {},
          "output_type": "execute_result"
        }
      ],
      "source": [
        "describe(X_test_standardized)"
      ]
    },
    {
      "cell_type": "code",
      "execution_count": 19,
      "metadata": {
        "id": "_tTsEozJ2_3a"
      },
      "outputs": [
        {
          "data": {
            "text/plain": [
              "array([[0.        , 0.        , 0.        , 0.        , 0.        ,\n",
              "        0.        , 0.        , 0.        ],\n",
              "       [1.        , 1.        , 1.        , 1.        , 1.        ,\n",
              "        1.        , 1.        , 1.        ],\n",
              "       [0.23258327, 0.5426248 , 0.03486096, 0.0214572 , 0.03987622,\n",
              "        0.02731966, 0.32948789, 0.47304683],\n",
              "       [0.13174108, 0.24755899, 0.01821314, 0.0143474 , 0.03225631,\n",
              "        0.0148877 , 0.22685744, 0.20009349]])"
            ]
          },
          "execution_count": 19,
          "metadata": {},
          "output_type": "execute_result"
        }
      ],
      "source": [
        "describe(X_train_normalized)"
      ]
    },
    {
      "cell_type": "code",
      "execution_count": 20,
      "metadata": {
        "id": "bNplCpND3Byu"
      },
      "outputs": [
        {
          "data": {
            "text/plain": [
              "array([[ 0.00000000e+00,  0.00000000e+00,  3.24519387e-04,\n",
              "        -1.23670542e-03, -5.60585251e-05,  6.99477723e-04,\n",
              "         2.12539851e-03, -5.00500501e-03],\n",
              "       [ 1.00000000e+00,  1.00000000e+00,  1.07119719e+00,\n",
              "         7.49780766e-01,  4.21335875e-01,  1.50661284e+01,\n",
              "         1.00000000e+00,  9.73973974e-01],\n",
              "       [ 2.32184910e-01,  5.40377844e-01,  3.46611042e-02,\n",
              "         2.13331599e-02,  3.96718722e-02,  3.23732947e-02,\n",
              "         3.26434541e-01,  4.74567591e-01],\n",
              "       [ 1.29311989e-01,  2.44910787e-01,  2.00640843e-02,\n",
              "         1.33852269e-02,  3.05053630e-02,  2.28731395e-01,\n",
              "         2.27258029e-01,  2.01603397e-01]])"
            ]
          },
          "execution_count": 20,
          "metadata": {},
          "output_type": "execute_result"
        }
      ],
      "source": [
        "describe(X_test_normalized)"
      ]
    },
    {
      "cell_type": "markdown",
      "metadata": {
        "id": "EgG7BAsDOx8B"
      },
      "source": [
        "### 2. Linear regression"
      ]
    },
    {
      "cell_type": "markdown",
      "metadata": {
        "id": "aDLWBj56D6P6"
      },
      "source": [
        "Now you are ready to put your dataset to train a model. You will continue to use the linear regression that you have made in the lab using the normal equation. \n",
        "\n",
        "- Create the **solver** function that creates a linear regression line and return the coefficents. You can re-use the function from the first lab.\n",
        "- Here you should use **all available features** of the dataset.\n",
        "- You should add one column representing a bias to your feature matrix.\n",
        "\n",
        "The normal equation can be represented as follows:\n",
        "\n",
        "$\\theta = (\\textbf{X}^T \\cdot \\textbf{X})^{-1} \\cdot \\textbf{X}^T \\cdot \\textbf{y}$"
      ]
    },
    {
      "cell_type": "code",
      "execution_count": 21,
      "metadata": {
        "id": "6EkjV6APOx8C"
      },
      "outputs": [],
      "source": [
        "def solver(X, y):\n",
        "  \"\"\"\n",
        "  Get the weights and bias of linear regression classifier on the input dataset (X, y).\n",
        "\n",
        "  Input: \n",
        "   - X: a set of features\n",
        "   - y: labels\n",
        "  Output:\n",
        "   - theta: weights and bias of the linear regression\n",
        "  \"\"\"\n",
        "  A = np.insert(X, X.shape[1], 1, axis=1)\n",
        "\n",
        "  theta = (np.linalg.inv((A.T @ A)) @ (A.T @ y))\n",
        "  return theta"
      ]
    },
    {
      "cell_type": "markdown",
      "metadata": {
        "id": "xWZhZW4rExeQ"
      },
      "source": [
        "You should run this solver function only on the standardized training set (**X_train_standardized**, **y_train**) to create the model and evalute it later on the test set.\n",
        "\n",
        "- Run the **solve** function on **X_train_standardized** and **y_train** and save the result to **theta**."
      ]
    },
    {
      "cell_type": "code",
      "execution_count": 22,
      "metadata": {
        "colab": {
          "base_uri": "https://localhost:8080/"
        },
        "id": "4_8ETLDgE_5p",
        "outputId": "390908bc-5d45-4e55-f9c3-5b043bc2f0db"
      },
      "outputs": [
        {
          "name": "stdout",
          "output_type": "stream",
          "text": [
            "[ 0.82504979  0.11995615 -0.24721381  0.27171934  0.0134963  -0.16608931\n",
            " -0.88249344 -0.84168038  2.06615072]\n"
          ]
        }
      ],
      "source": [
        "theta = solver(X_train_standardized, y_train)\n",
        "print(theta)"
      ]
    },
    {
      "cell_type": "markdown",
      "metadata": {
        "id": "dQDfYDDxF9o5"
      },
      "source": [
        "You now have a complete model trained on the training set. Then the next interesting thing is to evaluate if the model is good enough by using the test set. To do this, you need to create a predict function that can return the expected value. \n",
        "\n",
        "- Create the **predict** function which put each instance into the regression equation to predict the value. **DO NOT USE ANY LOOP**."
      ]
    },
    {
      "cell_type": "code",
      "execution_count": 23,
      "metadata": {
        "id": "p-JxOI09ledN"
      },
      "outputs": [],
      "source": [
        "def predict(X, theta):\n",
        "  \"\"\"\n",
        "  Input: \n",
        "   - X: data instances to predict\n",
        "   - theta: trained regression coefficients\n",
        "\n",
        "  Output:\n",
        "   - y_hat: predicted values (X @ weight) + bias\n",
        "  \"\"\"\n",
        "  return (X @ theta[:-1]) + theta[-1]"
      ]
    },
    {
      "cell_type": "markdown",
      "metadata": {
        "id": "psp-L1wGRslu"
      },
      "source": [
        "This predict function should be able to return the predicted value of the housing price. Then now you might want to return the mean squared error (and its variants) of the whole model. There can be many different metrics but here you will measure the rooted mean squared error (RMSE). RMSE can be calculated as follows: "
      ]
    },
    {
      "cell_type": "markdown",
      "metadata": {
        "id": "ljB3uUqjWPbw"
      },
      "source": [
        "$RMSE = \\sqrt{\\frac{1}{n}\\sum_{t=1}^{n}(\\hat{y}_t - y_t)^2} $.\n",
        "\n",
        "Note that $\\hat{y}$ is a predicted label and $y$ is a true label."
      ]
    },
    {
      "cell_type": "markdown",
      "metadata": {
        "id": "aMTnVQGPWfBv"
      },
      "source": [
        "- Create a function **rooted_mean_squared_error** that calculates the RMSE value."
      ]
    },
    {
      "cell_type": "code",
      "execution_count": 24,
      "metadata": {
        "id": "laAN9bTMOx8C"
      },
      "outputs": [],
      "source": [
        "def rooted_mean_squared_error(X, y, theta):\n",
        "  \"\"\"\n",
        "  Input:\n",
        "    - X_test: data instances to test\n",
        "    - y_test: true class labels of the corresponding data instances (X_test)\n",
        "    - theta: trained regression coefficients\n",
        "\n",
        "  Output:\n",
        "    - RMSE: the RMSE score\n",
        "\n",
        "  Use predict function to calculate our predicted values.\n",
        "  \"\"\"\n",
        "  y_hat = predict(X, theta)\n",
        "  \n",
        "  return np.sqrt((1/y.size) * np.sum(np.square(y_hat - y)))"
      ]
    },
    {
      "cell_type": "markdown",
      "metadata": {
        "id": "TReu0cnIWiz2"
      },
      "source": [
        "- Run RMSE function to test our model created by our solver function. Use predict function to calculate our predicted values. Report the RMSE value. Since you used the standardized dataset for training, you should do the same for testing."
      ]
    },
    {
      "cell_type": "markdown",
      "metadata": {
        "id": "52aH-ML6Seu7"
      },
      "source": [
        "Even though the RMSE is generally the preferred performance measure for\n",
        "regression tasks, in some contexts you may prefer to use another function. For\n",
        "example, suppose that there are many outliers. In that case, you may\n",
        "consider using the mean absolute error (MAE). It's direct translation of l1 and l2 norm. The higher the norm index, the more it focuses on large values and\n",
        "neglects small ones. This is why the RMSE is more sensitive to\n",
        "outliers than the MAE. But when outliers are exponentially rare (like\n",
        "in a bell-shaped curve), the RMSE performs very well and is\n",
        "generally preferred.\n",
        "\n",
        "MAE can be calculated as follows:\n",
        "\n",
        "$MAE = \\frac{1}{n}\\sum_{t=1}^{n}|\\hat{y}_t - y_t|$\n",
        "\n",
        "- Implement a function for MAE **mean_absolute_error**, which receives the same parameters *X*, *y*, and *theta*."
      ]
    },
    {
      "cell_type": "code",
      "execution_count": 25,
      "metadata": {
        "id": "uFEGAF7fqqeg"
      },
      "outputs": [],
      "source": [
        "def mean_absolute_error(X, y, theta):\n",
        "  \"\"\"\n",
        "  Input:\n",
        "    - X_test: data instances to test\n",
        "    - y_test: true values of the corresponding data instances (X_test)\n",
        "    - theta: trained regression coefficients\n",
        "\n",
        "  Output:\n",
        "    - MAE: MAE score\n",
        "\n",
        "  Use predict function to calculate our predicted values.\n",
        "  \"\"\"\n",
        "  y_hat = predict(X, theta)\n",
        "\n",
        "  return (1/y.size)*(np.sum(np.abs(y_hat - y)))"
      ]
    },
    {
      "cell_type": "markdown",
      "metadata": {
        "id": "PNC0hszHqyIP"
      },
      "source": [
        "Train your regression model on the **standardized** training set and evaluate your method with two different scores: RMSE and MAE. Print two scores here."
      ]
    },
    {
      "cell_type": "code",
      "execution_count": 26,
      "metadata": {
        "id": "wm8gHjCSq64P"
      },
      "outputs": [],
      "source": [
        "rmse_score = rooted_mean_squared_error(X_test_standardized, y_test, theta)\n",
        "mae_score = mean_absolute_error(X_test_standardized, y_test, theta)"
      ]
    },
    {
      "cell_type": "code",
      "execution_count": 27,
      "metadata": {
        "colab": {
          "base_uri": "https://localhost:8080/"
        },
        "id": "LWaJtiItrmDk",
        "outputId": "ba786a85-0aad-45b1-9c6e-57b1a7be2cba"
      },
      "outputs": [
        {
          "data": {
            "text/plain": [
              "(2.6077857356332066, 0.5645374617306208)"
            ]
          },
          "execution_count": 27,
          "metadata": {},
          "output_type": "execute_result"
        }
      ],
      "source": [
        "rmse_score, mae_score"
      ]
    },
    {
      "cell_type": "markdown",
      "metadata": {
        "id": "royxfFHjRjw2"
      },
      "source": [
        "### 4. Linear regression with regularization"
      ]
    },
    {
      "cell_type": "markdown",
      "metadata": {
        "id": "wphcDNvvkwL0"
      },
      "source": [
        "You have learned the Ridge regression in the lecture. Fortunately, the Ridge regression also can be represented as a closed form solution with the normal equation. \n",
        "\n",
        "Your task here is to create a variant of your previous solver function supporting the Ridge regression. \n",
        "\n",
        "A closed form solution to Ridge can be represented as follows:\n",
        "\n",
        "$\\theta = (\\textbf{X}^T \\cdot \\textbf{X} + \\lambda \\textbf{I})^{-1} \\cdot \\textbf{X}^T \\cdot \\textbf{y}$\n",
        "\n",
        "where $\\textbf{I}$ is an $(n+1) \\times (n+1) $ identity matrix, since the feature matrix also includes the bias column.\n"
      ]
    },
    {
      "cell_type": "code",
      "execution_count": 28,
      "metadata": {
        "id": "jvYlCgotRlcK"
      },
      "outputs": [],
      "source": [
        "def solver_with_ridge(X, y, alpha):\n",
        "  \"\"\"\n",
        "  Get the weights and bias of the linear regression line on the dataset X, using the labels y.\n",
        "\n",
        "  Input: \n",
        "   - X: a set of features to get weights\n",
        "   - y: class labels\n",
        "  Output:\n",
        "   - theta: weights and bias of the ridge regression\n",
        "  \"\"\"\n",
        "  A = np.insert(X, X.shape[1], 1, axis=1)\n",
        "  I = np.identity(A.shape[1])\n",
        "\n",
        "  theta = (np.linalg.inv((A.T @ A + (I*alpha))) @ (A.T @ y))\n",
        "\n",
        "  return theta"
      ]
    },
    {
      "attachments": {},
      "cell_type": "markdown",
      "metadata": {
        "id": "G-LrDqWSmaGW"
      },
      "source": [
        "Here, compare the performances changing the $\\lambda$ value. Use the $\\lambda$ value from 0 to 30 in increments of 0.1. Use RMSE as a score metric. Save those 300 scores into the list `scores`. \n",
        "\n",
        "- To iterate different $\\lambda$ 's, you can use a loop for your convenience."
      ]
    },
    {
      "cell_type": "code",
      "execution_count": 29,
      "metadata": {
        "id": "Vd9pJ8zUo_7u"
      },
      "outputs": [],
      "source": [
        "scores = np.array([])\n",
        "alphas = np.arange(0, 100, 0.1)\n",
        "\n",
        "for alpha in alphas:\n",
        "\ttheta = solver_with_ridge(X_train_standardized, y_train, alpha)\n",
        "\tscores = np.append(scores, rooted_mean_squared_error(X_test_standardized, y_test, theta))"
      ]
    },
    {
      "cell_type": "markdown",
      "metadata": {
        "id": "ILjT1k5FpLVe"
      },
      "source": [
        "Plot the graph of different scores here. If you saved all scores in the list `scores`, you can simply run the block below. The resulting plot behaves in a different way based on your split training and test sets. Sometimes, the error just decreases or increases, but you can also see that the error decreases first, but after some point, it starts to increase. If you are interested, repeat many times to check different plots and you can even change the range from [0, 30] to something else. Uncomment the block below!"
      ]
    },
    {
      "cell_type": "code",
      "execution_count": 30,
      "metadata": {
        "id": "--Ky0LHO0wqM"
      },
      "outputs": [
        {
          "data": {
            "image/png": "[encoded data removed]",
            "text/plain": [
              "<Figure size 432x288 with 1 Axes>"
            ]
          },
          "metadata": {
            "needs_background": "light"
          },
          "output_type": "display_data"
        }
      ],
      "source": [
        "plt.plot(np.arange(0, 100, 0.1), scores)\n",
        "plt.xlabel(\"alpha\")\n",
        "plt.ylabel(\"RMSE\")\n",
        "plt.show()"
      ]
    },
    {
      "cell_type": "markdown",
      "metadata": {
        "id": "S3nHFnagh0nC"
      },
      "source": [
        "### 5. Model validation"
      ]
    },
    {
      "cell_type": "markdown",
      "metadata": {
        "id": "p7MnVQ5Rryof"
      },
      "source": [
        "So far, you simply had one test set and one training set. Now the question is if those sets were enough to represent the dataset's distribution. To overcome this problem, various validation methods have been developed and used such as cross-validation or a repeated holdout test. Here, you will develop one function that performs the repeated holdout test. The key strategy of it is to create a completely different training and test set pair for each iteration. You need to iterate the holdout test that you performed many (k) times and return the average score.\n",
        "\n",
        "* You are allowed to use a for loop to iterate k different tests. However, you are not allowed to use the loop to create different indices to divide the dataset.\n",
        "* You can call the `train_test_split` function you have developed above if it helps your development process."
      ]
    },
    {
      "cell_type": "code",
      "execution_count": 31,
      "metadata": {
        "id": "M7JEfZjGijfH"
      },
      "outputs": [],
      "source": [
        "def repeated_hold_out(X, y, k, test_ratio):\n",
        "  \"\"\"\n",
        "  Input:\n",
        "    - X: features\n",
        "    - y: labels\n",
        "    - test_ratio: ratio of the test set\n",
        "  Output:\n",
        "    - score: the average of k different test scores\n",
        "  \n",
        "  1. Iterate k times to perform k validation processes.\n",
        "  2. For each iteration, split the dataset into training and test sets with *random* indices.\n",
        "   - Note that each iteration should create different training and test sets.\n",
        "  3. Use *standardization* to fix the scale of the dataset, you should only use the training set's properties.\n",
        "  4. Fit your model with *solver* (without ridge) on the training set.\n",
        "  5. Save your *RMSE* score into the list *scores*\n",
        "  6. After all the iterations, return the average of *scores*.\n",
        "\n",
        "  \"\"\"\n",
        "  scores = np.array([])\n",
        "  for i in range(k):\n",
        "    X_train, X_test, y_train, y_test = train_test_split(X, y, test_ratio)\n",
        "    X_train_standardized, X_test_standardized = apply_standardization(X_train, X_test)\n",
        "    theta = solver(X_train, y_train)\n",
        "    scores = np.append(scores, rooted_mean_squared_error(X_test_standardized, y_test, theta))\n",
        "\n",
        "  return np.average(scores)"
      ]
    },
    {
      "cell_type": "markdown",
      "metadata": {
        "id": "Po5UX-gb2idF"
      },
      "source": [
        "Run the line below to return your holdout score."
      ]
    },
    {
      "cell_type": "code",
      "execution_count": 32,
      "metadata": {
        "id": "QuMGeSGfLjAL"
      },
      "outputs": [
        {
          "data": {
            "text/plain": [
              "39.01504470047771"
            ]
          },
          "execution_count": 32,
          "metadata": {},
          "output_type": "execute_result"
        }
      ],
      "source": [
        "holdout_score = repeated_hold_out(X, y, k=5, test_ratio=0.2)\n",
        "holdout_score"
      ]
    },
    {
      "cell_type": "markdown",
      "metadata": {
        "id": "D7mSIvYbRoQq"
      },
      "source": [
        "### 6. Put things together"
      ]
    },
    {
      "cell_type": "markdown",
      "metadata": {
        "id": "DWjft22LHEJm"
      },
      "source": [
        "It's time to put everything you have done together here. Here you will create a function that manages whole process from receiving raw datasets to returning performance metrics, by modifying the repeated holdout function. This will help you manage your process clearly since it must contain all the functions you use for your dataset (Later you will replace it with scikit-learn's pipeline technique for the same purpose) - By having these management functions, you can switch off some of the techniques, add more techniques in the middle, or replace some of them with other methods, without any problem or confusion.\n",
        "\n",
        "* Complete `pipeline` following the instruction."
      ]
    },
    {
      "cell_type": "code",
      "execution_count": 33,
      "metadata": {
        "id": "6CU_kV0DRpYg"
      },
      "outputs": [],
      "source": [
        "def pipeline(X, y, k = 5, test_ratio = 0.2, norm_method = \"standardization\", eval_method = \"RMSE\", alpha = 0):\n",
        "  \"\"\"\n",
        "  Input:\n",
        "    - X: features\n",
        "    - y: labels\n",
        "    - test_ratio: ratio of the test set\n",
        "  Output:\n",
        "    - score: the average of k different test scores\n",
        "  \n",
        "  1. Iterate k times to perform k validation processes.\n",
        "  2. For each iteration, split the dataset into the training and test sets with *random* indices.\n",
        "   - Note that each iteration should create different training and test sets.\n",
        "  3. Check the parameter *norm_method*\n",
        "    - if norm_method == standardization:\n",
        "      - Use *standardization* to fix the scale of the dataset, you should only use the training set's properties.\n",
        "    - if norm_method == normalization:\n",
        "      - Use *normalization* to fix the scale of the dataset, you should only use the training set's properties.\n",
        "  4. Fit your model with *solver_with_ridge\" on the training set. Use alpha from the parameter.\n",
        "  5. Check the parameter \"eval_method\"\n",
        "    - if eval_method == \"RMSE\"\n",
        "      - Save your *RMSE* score into the list *scores*\n",
        "    - if eval_method == \"MAE\"\n",
        "      - Save your *MAE* score into the list *scores*\n",
        "\n",
        "  6. After all the iterations, return the average of *scores*.\n",
        "\n",
        "  \"\"\"\n",
        "  scores = np.array([])\n",
        "\n",
        "  for i in range(k):\n",
        "    X_train, X_test, y_train, y_test = train_test_split(X, y, test_ratio)\n",
        "    if norm_method == \"standardization\":\n",
        "      X_train_scaled, X_test_scaled = apply_standardization(X_train, X_test)\n",
        "    if norm_method == \"normalization\":\n",
        "      X_train_scaled, X_test_scaled = apply_normalization(X_train, X_test)\n",
        "\n",
        "    theta = solver_with_ridge(X_train_scaled, y_train, alpha)\n",
        "\n",
        "    if eval_method == \"RMSE\":\n",
        "      scores = np.append(scores, rooted_mean_squared_error(X_test_scaled, y_test, theta))\n",
        "    if eval_method == \"MAE\":\n",
        "      scores = np.append(scores, mean_absolute_error(X_test_scaled, y_test, theta))\n",
        "  \n",
        "  return np.average(scores)"
      ]
    },
    {
      "cell_type": "markdown",
      "metadata": {
        "id": "P7GKrthoLOlD"
      },
      "source": [
        "Now you are ready to run various tasks by using this single function. Will the best model the same under RMSE or MAE? Will different k or test ratio result in different best model? You can do many different trials to find a good model.\n",
        "\n",
        "- (Optional) Change a normalization method, an alpha value to find out the best classifier under either RMSE or MAE score. This task is completely optional and will not affect your homework grade."
      ]
    },
    {
      "cell_type": "code",
      "execution_count": 34,
      "metadata": {
        "id": "bkCeCDoPLNGp"
      },
      "outputs": [],
      "source": [
        "def param_search (X, y, k, test_ratio, norm_methods, eval_method, alphas):\n",
        "\tbest_model = {\"score\": np.inf}\n",
        "\tfor norm_method in norm_methods:\n",
        "\t\tfor alpha in alphas:\n",
        "\t\t\tscore = pipeline(X, y, k, test_ratio, norm_method, eval_method, alpha)\n",
        "\t\t\tif score < best_model[\"score\"]:\n",
        "\t\t\t\tbest_model = {\"score\": score, \"norm_method\": norm_method, \"alpha\": alpha}\n",
        "\treturn best_model"
      ]
    },
    {
      "cell_type": "code",
      "execution_count": 35,
      "metadata": {},
      "outputs": [
        {
          "name": "stdout",
          "output_type": "stream",
          "text": [
            "{'score': 0.6985085722133753, 'norm_method': 'standardization', 'alpha': 17.3}\n"
          ]
        }
      ],
      "source": [
        "norm_method = [\"standardization\", \"normalization\"]\n",
        "eval_method = \"RMSE\"\n",
        "alphas = np.arange(0, 30, 0.1)\n",
        "best_model = param_search(X, y, k=1, test_ratio=0.3, norm_methods=norm_method, eval_method=eval_method, alphas=alphas)\n",
        "print(best_model)"
      ]
    },
    {
      "cell_type": "markdown",
      "metadata": {
        "id": "cWugHCgB2Cpq"
      },
      "source": [
        "# END"
      ]
    }
  ],
  "metadata": {
    "colab": {
      "provenance": []
    },
    "kernelspec": {
      "display_name": "Python 3",
      "language": "python",
      "name": "python3"
    },
    "language_info": {
      "codemirror_mode": {
        "name": "ipython",
        "version": 3
      },
      "file_extension": ".py",
      "mimetype": "text/x-python",
      "name": "python",
      "nbconvert_exporter": "python",
      "pygments_lexer": "ipython3",
      "version": "3.10.6"
    },
    "orig_nbformat": 4,
    "vscode": {
      "interpreter": {
        "hash": "916dbcbb3f70747c44a77c7bcd40155683ae19c65e1c03b4aa3499c5328201f1"
      }
    }
  },
  "nbformat": 4,
  "nbformat_minor": 0
}
